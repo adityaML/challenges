{
 "metadata": {
  "name": ""
 },
 "nbformat": 3,
 "nbformat_minor": 0,
 "worksheets": [
  {
   "cells": [
    {
     "cell_type": "heading",
     "level": 1,
     "metadata": {},
     "source": [
      "triangulation.py and more"
     ]
    },
    {
     "cell_type": "raw",
     "metadata": {},
     "source": [
      "Breakdown of code triangulation.py"
     ]
    },
    {
     "cell_type": "code",
     "collapsed": false,
     "input": [
      "import numpy as np\n",
      "import sys,os\n",
      "import math\n",
      "#import scipy.optimize   \n",
      "# uncomment the above import to run it, reason architectural reasons  as I use the following command\n",
      "# arch -i386 python triangulation.py to run the code, ipython for some reason shows the import error due to difference in architecture\n",
      "# i.e. I have a 32 bit build in my virtural env\n",
      "\n",
      "def get_angle(v1,v2):\n",
      "\tangle = np.arccos(np.dot(v1, v2))\n",
      "\tif np.isnan(angle):\n",
      "\t\tif (v1 == v2).all():\n",
      "\t\t\treturn 0.0\n",
      "\t\telse:\n",
      "\t\t\treturn np.pi\n",
      "\treturn angle"
     ],
     "language": "python",
     "metadata": {},
     "outputs": [],
     "prompt_number": 1
    },
    {
     "cell_type": "code",
     "collapsed": false,
     "input": [
      "if __name__=='__main__':\n",
      "    l2norm= lambda p,x: np.linalg.norm(p-x)\n",
      "    # three landmark points\n",
      "    p=np.array([[18.2153969,-210.61306,-157.08696],[35.1232319,-203.58668,-156.28716],[23.93357,-208.93555,-154.09246]])\n",
      "    # distances to those landmarks from TCD measuring device\n",
      "    r=np.array([45,66,50])\n",
      "    # This piece of code does not work in my Ipython notebook, with scipy architecture issues\n",
      "    # f=lambda x: sum([(l2norm(p[i,:],x)-r[i])**2 for i in range(3)])\n",
      "    # xopt=scipy.optimize.fmin(func=f,x0=np.array([0,0,0]))\n",
      "    # print xopt\n",
      "    ####################################\n",
      "    # xopt obtained from the run in my machine after using the command line 'arch -i386 python triangulation.py'\n",
      "    # Optimization terminated successfully.\n",
      "    #     Current function value: 6.917658\n",
      "    #     Iterations: 322\n",
      "    #     Function evaluations: 581\n",
      "    # [ -23.01912938 -229.64631509 -151.6406802 ]\n",
      "    #####################################\n",
      "    xopt=np.array([-23.01912938,-229.64631509,-151.6406802])\n",
      "    "
     ],
     "language": "python",
     "metadata": {},
     "outputs": [],
     "prompt_number": 2
    },
    {
     "cell_type": "code",
     "collapsed": false,
     "input": [
      "\tx1=np.array([24.38606,-208.122063,-154.290117])\n",
      "\tprint 'Dist 1 from x1 and device : ' + str(l2norm(xopt,x1)) # which is around 52.130268 mm\n",
      "\tx2=np.array([28.69695,-204.3147,-153.483399])\n",
      "\tprint 'Dist 2 from x2 and device : ' + str(l2norm(xopt,x2)) # which is around 57.6163 mm \n",
      "\tx3=np.array([33.1367,-203.1093,-153.727])\n",
      "\tprint 'Dist 3 from x3 and device : ' + str(l2norm(xopt,x3)) # which is around 62.1453 mm\n",
      "\tx4=np.array([21.7625,-209.567,-155.588])\n",
      "\tprint 'Dist 4 from x4 and device : ' + str(l2norm(xopt,x4)) # which is around 49.2357 mm\n",
      "\tx5=np.array([25.609,-206.9585,-154.018])\n",
      "\tprint 'Dist 5 from x5 and device : ' + str(l2norm(xopt,x5)) # which is around 53.7129 mm\n",
      "    "
     ],
     "language": "python",
     "metadata": {},
     "outputs": [
      {
       "output_type": "stream",
       "stream": "stdout",
       "text": [
        "Dist 1 from x1 and device : 52.1302687845\n",
        "Dist 2 from x2 and device : 57.6163102088\n",
        "Dist 3 from x3 and device : 62.1453383091\n",
        "Dist 4 from x4 and device : 49.2357040979\n",
        "Dist 5 from x5 and device : 53.7129739447\n"
       ]
      }
     ],
     "prompt_number": 3
    },
    {
     "cell_type": "raw",
     "metadata": {},
     "source": [
      "Calulate angle between the Inlet normal and the TCD device"
     ]
    },
    {
     "cell_type": "code",
     "collapsed": false,
     "input": [
      "\t# Inlet coordinates from profile [31.6551,-203.41296,-153.58512]\n",
      "\t# normal at the Inlet  : [-0.937234,-0.27345,0.21636]\n",
      "\tIn=np.array([31.6551,-203.41296,-153.58512])\n",
      "\tIn_normal=np.array([-0.937234,-0.27345,0.21636])\n",
      "\tvector1=xopt-In\n",
      "\tunitvector1= vector1 / np.linalg.norm(vector1)\n",
      "\tangle_at_Inlet=get_angle(unitvector1,In_normal)\n",
      "\tprint angle_at_Inlet,unitvector1"
     ],
     "language": "python",
     "metadata": {},
     "outputs": [
      {
       "output_type": "stream",
       "stream": "stdout",
       "text": [
        "0.246666744378 [-0.90112604 -0.43237115  0.03204774]\n"
       ]
      }
     ],
     "prompt_number": 4
    },
    {
     "cell_type": "raw",
     "metadata": {},
     "source": [
      " The above results indicate angle and the unitvector pointing towards the TCD device from the Inlet."
     ]
    }
   ],
   "metadata": {}
  }
 ]
}